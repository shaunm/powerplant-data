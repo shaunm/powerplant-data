{
 "cells": [
  {
   "cell_type": "markdown",
   "metadata": {},
   "source": [
    "## Task\n",
    "\n",
    "* Report how many utilities per year we have? Do we observe the same utilities for multiple years or do the utilities in the sample differ every year? Between 1990 and 2020, how frequently do we observe the same utility?\n",
    "* Let me know what the proportion of various types of utilities (investor owned, cooperative etc) is?\n",
    "* Add up the monthly TOTAL sales and TOTAL revenue for each utility (other variables pertaining to residential, commercial etc and to the number of consumers can be dropped) such that we have sales and revenues per year."
   ]
  },
  {
   "cell_type": "markdown",
   "metadata": {},
   "source": [
    "### Given the above constraints, we should probably structure our data as follows:\n",
    "\n",
    "```\n",
    "{\n",
    "    year: {\n",
    "        utility: {\n",
    "            type:\n",
    "            sales:\n",
    "            revenue:\n",
    "        }\n",
    "    }\n",
    "}\n",
    "```"
   ]
  },
  {
   "cell_type": "markdown",
   "metadata": {},
   "source": [
    "### Lets load in our first type of csv..."
   ]
  },
  {
   "cell_type": "code",
   "execution_count": 1,
   "metadata": {},
   "outputs": [],
   "source": [
    "master = {}"
   ]
  },
  {
   "cell_type": "code",
   "execution_count": 2,
   "metadata": {},
   "outputs": [],
   "source": [
    "def convert_csv(data):\n",
    "    output = ''\n",
    "    for key, value in data.items():\n",
    "        output += (str(key) +  \",sales (MwH),revenue ($1000)\\n\")\n",
    "        for k, v in value.items():\n",
    "            output += ('\"' + str(k) + '\",' +  str(v['sales']) + \",\" + str(v['revenue']) + \"\\n\")\n",
    "        output += \",,\\n,,\\n,,\\n\"\n",
    "    return output"
   ]
  },
  {
   "cell_type": "code",
   "execution_count": 13,
   "metadata": {},
   "outputs": [],
   "source": [
    "def parse_data_a(i, df):\n",
    "    grouped = df.groupby([\"UTILNAME\"]).sum().reset_index()\n",
    "    for index, row in grouped.iterrows():\n",
    "        \n",
    "        try:\n",
    "            rev = round(float(row[\"TOT_REV (Thousand $)\"]), 4)\n",
    "        \n",
    "        except ValueError:\n",
    "            rev = \"error\"\n",
    "          \n",
    "        \n",
    "        try:\n",
    "            sales = round(float(row[\"TOT_SALES (MwH)\"]), 4)\n",
    "            \n",
    "        except ValueError:\n",
    "            sales = \"error\"\n",
    "            \n",
    "        master[i][row[\"UTILNAME\"]] = {\n",
    "            \"type\": None,\n",
    "            \"sales\": sales,\n",
    "            \"revenue\": rev,\n",
    "        }\n",
    "    print(\"Processed \" + str(i))"
   ]
  },
  {
   "cell_type": "code",
   "execution_count": 14,
   "metadata": {},
   "outputs": [],
   "source": [
    "def parse_data_b(i, df):\n",
    "    grouped = df.groupby([\"Utility Name\"]).sum().reset_index()\n",
    "    for index, row in grouped.iterrows():\n",
    "        \n",
    "        try:\n",
    "            rev = round(float(row[\"Thousands Dollars\"]), 4)\n",
    "        \n",
    "        except ValueError:\n",
    "            rev = \"error\"\n",
    "        \n",
    "        try:\n",
    "            sales = round(float(row[\"Megawatthours\"]), 4)\n",
    "        except ValueError:\n",
    "            sales = \"error\"\n",
    "                        \n",
    "        master[i][row[\"Utility Name\"]] = {\n",
    "            \"type\": None,\n",
    "            \"sales\": sales,\n",
    "            \"revenue\": rev,\n",
    "        }\n",
    "    print(\"Processed \" + str(i))"
   ]
  },
  {
   "cell_type": "code",
   "execution_count": 15,
   "metadata": {},
   "outputs": [
    {
     "name": "stdout",
     "output_type": "stream",
     "text": [
      "Processed 1990\n",
      "Processed 1991\n",
      "Processed 1992\n",
      "Processed 1993\n",
      "Processed 1994\n",
      "Processed 1995\n",
      "Processed 1996\n",
      "Processed 1997\n",
      "Processed 1998\n",
      "Processed 1999\n",
      "Processed 2000\n",
      "Processed 2001\n",
      "Processed 2002\n",
      "Processed 2003\n",
      "Processed 2004\n",
      "Processed 2005\n",
      "Processed 2006\n",
      "Processed 2007\n",
      "Processed 2008\n",
      "Processed 2009\n",
      "Processed 2010\n",
      "Processed 2011\n",
      "Processed 2012\n",
      "Processed 2013\n",
      "Processed 2014\n",
      "Processed 2015\n",
      "Processed 2016\n",
      "Processed 2017\n",
      "Processed 2018\n",
      "Processed 2019\n",
      "Processed 2020\n",
      "Processed 2021\n"
     ]
    }
   ],
   "source": [
    "import pandas as pd \n",
    "import json \n",
    "\n",
    "#Plus 1 to end\n",
    "for i in range(1990, 2013):\n",
    "    data = pd.read_csv(\"a/\"+ str(i) +\".csv\", skipinitialspace=True, thousands=',', usecols=[\"UTILNAME\", \"TOT_REV (Thousand $)\", \"TOT_SALES (MwH)\"  ]) \n",
    "    master[i] = {}\n",
    "    parse_data_a(i, data)\n",
    "for i in range(2013, 2022):\n",
    "    data = pd.read_csv(\"b/\"+ str(i) +\".csv\", skipinitialspace=True, thousands=',', skiprows=2, usecols=[\"Utility Name\", \"Thousands Dollars\", \"Megawatthours\"  ]) \n",
    "    data.replace({',':''},regex=True)\n",
    "    data[\"Thousands Dollars\"] = pd.to_numeric(data[\"Thousands Dollars\"]) # errors='ignore'\n",
    "    data[\"Megawatthours\"] = pd.to_numeric(data[\"Megawatthours\"])\n",
    "    master[i] = {}\n",
    "    parse_data_b(i, data)"
   ]
  },
  {
   "cell_type": "code",
   "execution_count": 16,
   "metadata": {},
   "outputs": [
    {
     "ename": "KeyError",
     "evalue": "'sales (MwH)'",
     "output_type": "error",
     "traceback": [
      "\u001b[0;31m---------------------------------------------------------------------------\u001b[0m",
      "\u001b[0;31mKeyError\u001b[0m                                  Traceback (most recent call last)",
      "\u001b[0;32m<ipython-input-16-654963314402>\u001b[0m in \u001b[0;36m<module>\u001b[0;34m\u001b[0m\n\u001b[1;32m      2\u001b[0m     \u001b[0mjson\u001b[0m\u001b[0;34m.\u001b[0m\u001b[0mdump\u001b[0m\u001b[0;34m(\u001b[0m\u001b[0mmaster\u001b[0m\u001b[0;34m,\u001b[0m \u001b[0mjson_file\u001b[0m\u001b[0;34m,\u001b[0m \u001b[0mensure_ascii\u001b[0m\u001b[0;34m=\u001b[0m\u001b[0;32mTrue\u001b[0m\u001b[0;34m,\u001b[0m \u001b[0mindent\u001b[0m\u001b[0;34m=\u001b[0m\u001b[0;36m4\u001b[0m\u001b[0;34m,\u001b[0m \u001b[0msort_keys\u001b[0m\u001b[0;34m=\u001b[0m\u001b[0;32mTrue\u001b[0m\u001b[0;34m)\u001b[0m\u001b[0;34m\u001b[0m\u001b[0;34m\u001b[0m\u001b[0m\n\u001b[1;32m      3\u001b[0m \u001b[0;34m\u001b[0m\u001b[0m\n\u001b[0;32m----> 4\u001b[0;31m \u001b[0mstr_file\u001b[0m \u001b[0;34m=\u001b[0m \u001b[0mconvert_csv\u001b[0m\u001b[0;34m(\u001b[0m\u001b[0mmaster\u001b[0m\u001b[0;34m)\u001b[0m\u001b[0;34m\u001b[0m\u001b[0;34m\u001b[0m\u001b[0m\n\u001b[0m\u001b[1;32m      5\u001b[0m \u001b[0;32mwith\u001b[0m \u001b[0mopen\u001b[0m\u001b[0;34m(\u001b[0m\u001b[0;34m\"1990-2021.csv\"\u001b[0m\u001b[0;34m,\u001b[0m \u001b[0;34m\"w\"\u001b[0m\u001b[0;34m)\u001b[0m \u001b[0;32mas\u001b[0m \u001b[0mtext_file\u001b[0m\u001b[0;34m:\u001b[0m\u001b[0;34m\u001b[0m\u001b[0;34m\u001b[0m\u001b[0m\n\u001b[1;32m      6\u001b[0m     \u001b[0mtext_file\u001b[0m\u001b[0;34m.\u001b[0m\u001b[0mwrite\u001b[0m\u001b[0;34m(\u001b[0m\u001b[0mstr_file\u001b[0m\u001b[0;34m)\u001b[0m\u001b[0;34m\u001b[0m\u001b[0;34m\u001b[0m\u001b[0m\n",
      "\u001b[0;32m<ipython-input-2-c3906fbe1354>\u001b[0m in \u001b[0;36mconvert_csv\u001b[0;34m(data)\u001b[0m\n\u001b[1;32m      4\u001b[0m         \u001b[0moutput\u001b[0m \u001b[0;34m+=\u001b[0m \u001b[0;34m(\u001b[0m\u001b[0mstr\u001b[0m\u001b[0;34m(\u001b[0m\u001b[0mkey\u001b[0m\u001b[0;34m)\u001b[0m \u001b[0;34m+\u001b[0m  \u001b[0;34m\",sales (MwH),revenue ($1000)\\n\"\u001b[0m\u001b[0;34m)\u001b[0m\u001b[0;34m\u001b[0m\u001b[0;34m\u001b[0m\u001b[0m\n\u001b[1;32m      5\u001b[0m         \u001b[0;32mfor\u001b[0m \u001b[0mk\u001b[0m\u001b[0;34m,\u001b[0m \u001b[0mv\u001b[0m \u001b[0;32min\u001b[0m \u001b[0mvalue\u001b[0m\u001b[0;34m.\u001b[0m\u001b[0mitems\u001b[0m\u001b[0;34m(\u001b[0m\u001b[0;34m)\u001b[0m\u001b[0;34m:\u001b[0m\u001b[0;34m\u001b[0m\u001b[0;34m\u001b[0m\u001b[0m\n\u001b[0;32m----> 6\u001b[0;31m             \u001b[0moutput\u001b[0m \u001b[0;34m+=\u001b[0m \u001b[0;34m(\u001b[0m\u001b[0;34m'\"'\u001b[0m \u001b[0;34m+\u001b[0m \u001b[0mstr\u001b[0m\u001b[0;34m(\u001b[0m\u001b[0mk\u001b[0m\u001b[0;34m)\u001b[0m \u001b[0;34m+\u001b[0m \u001b[0;34m'\",'\u001b[0m \u001b[0;34m+\u001b[0m  \u001b[0mstr\u001b[0m\u001b[0;34m(\u001b[0m\u001b[0mv\u001b[0m\u001b[0;34m[\u001b[0m\u001b[0;34m'sales (MwH)'\u001b[0m\u001b[0;34m]\u001b[0m\u001b[0;34m)\u001b[0m \u001b[0;34m+\u001b[0m \u001b[0;34m\",\"\u001b[0m \u001b[0;34m+\u001b[0m \u001b[0mstr\u001b[0m\u001b[0;34m(\u001b[0m\u001b[0mv\u001b[0m\u001b[0;34m[\u001b[0m\u001b[0;34m'revenue ($1000)'\u001b[0m\u001b[0;34m]\u001b[0m\u001b[0;34m)\u001b[0m \u001b[0;34m+\u001b[0m \u001b[0;34m\"\\n\"\u001b[0m\u001b[0;34m)\u001b[0m\u001b[0;34m\u001b[0m\u001b[0;34m\u001b[0m\u001b[0m\n\u001b[0m\u001b[1;32m      7\u001b[0m         \u001b[0moutput\u001b[0m \u001b[0;34m+=\u001b[0m \u001b[0;34m\",,\\n,,\\n,,\\n\"\u001b[0m\u001b[0;34m\u001b[0m\u001b[0;34m\u001b[0m\u001b[0m\n\u001b[1;32m      8\u001b[0m     \u001b[0;32mreturn\u001b[0m \u001b[0moutput\u001b[0m\u001b[0;34m\u001b[0m\u001b[0;34m\u001b[0m\u001b[0m\n",
      "\u001b[0;31mKeyError\u001b[0m: 'sales (MwH)'"
     ]
    }
   ],
   "source": [
    "with open(\"1990-2021.json\", \"w\") as json_file:\n",
    "    json.dump(master, json_file, ensure_ascii=True, indent=4, sort_keys=True)\n",
    "\n",
    "str_file = convert_csv(master)\n",
    "with open(\"1990-2021.csv\", \"w\") as text_file:\n",
    "    text_file.write(str_file)\n"
   ]
  },
  {
   "cell_type": "code",
   "execution_count": null,
   "metadata": {},
   "outputs": [],
   "source": [
    "# Do interesting data structure transformations here:\n",
    "\n"
   ]
  },
  {
   "cell_type": "markdown",
   "metadata": {},
   "source": [
    "### Attribution\n",
    "Python code: *Shaun* \n",
    "\n",
    "Data collection: *Aaron*"
   ]
  },
  {
   "cell_type": "code",
   "execution_count": null,
   "metadata": {},
   "outputs": [],
   "source": []
  },
  {
   "cell_type": "code",
   "execution_count": null,
   "metadata": {},
   "outputs": [],
   "source": []
  }
 ],
 "metadata": {
  "kernelspec": {
   "display_name": "Python 3",
   "language": "python",
   "name": "python3"
  },
  "language_info": {
   "codemirror_mode": {
    "name": "ipython",
    "version": 3
   },
   "file_extension": ".py",
   "mimetype": "text/x-python",
   "name": "python",
   "nbconvert_exporter": "python",
   "pygments_lexer": "ipython3",
   "version": "3.8.5"
  }
 },
 "nbformat": 4,
 "nbformat_minor": 4
}
